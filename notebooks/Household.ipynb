version https://git-lfs.github.com/spec/v1
oid sha256:7ffd4eb81aefdb20093d5d560bf3eafed5c045b87cebee8e27978c24c6be847e
size 51793
