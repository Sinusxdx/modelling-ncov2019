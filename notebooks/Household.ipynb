version https://git-lfs.github.com/spec/v1
oid sha256:a2422878376625f1a99dd7089da0ae9f1d6ef0fb481b16f9a3ffd6e83b62180f
size 61805
