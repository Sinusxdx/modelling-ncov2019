{
 "cells": [
  {
   "cell_type": "code",
   "execution_count": 1,
   "metadata": {},
   "outputs": [
    {
     "data": {
      "text/plain": [
       "'D:\\\\python\\\\modelling-ncov2019'"
      ]
     },
     "execution_count": 1,
     "metadata": {},
     "output_type": "execute_result"
    }
   ],
   "source": [
    "import os\n",
    "if os.getcwd().endswith('notebooks'):\n",
    "    os.chdir(os.path.join(os.getcwd(), os.pardir))\n",
    "os.getcwd()"
   ]
  },
  {
   "cell_type": "code",
   "execution_count": 2,
   "metadata": {},
   "outputs": [],
   "source": [
    "import pandas as pd\n",
    "import numpy as np\n",
    "import networkx as nx"
   ]
  },
  {
   "cell_type": "code",
   "execution_count": 3,
   "metadata": {},
   "outputs": [],
   "source": [
    "from src.features import entities"
   ]
  },
  {
   "cell_type": "code",
   "execution_count": 22,
   "metadata": {},
   "outputs": [],
   "source": [
    "gender_df = pd.DataFrame(data={'gender': [entities.Gender.FEMALE, entities.Gender.MALE], 'prob': [114/214, 100/214]})   "
   ]
  },
  {
   "cell_type": "code",
   "execution_count": 23,
   "metadata": {},
   "outputs": [
    {
     "data": {
      "text/html": [
       "<div>\n",
       "<style scoped>\n",
       "    .dataframe tbody tr th:only-of-type {\n",
       "        vertical-align: middle;\n",
       "    }\n",
       "\n",
       "    .dataframe tbody tr th {\n",
       "        vertical-align: top;\n",
       "    }\n",
       "\n",
       "    .dataframe thead th {\n",
       "        text-align: right;\n",
       "    }\n",
       "</style>\n",
       "<table border=\"1\" class=\"dataframe\">\n",
       "  <thead>\n",
       "    <tr style=\"text-align: right;\">\n",
       "      <th></th>\n",
       "      <th>gender</th>\n",
       "      <th>prob</th>\n",
       "    </tr>\n",
       "  </thead>\n",
       "  <tbody>\n",
       "    <tr>\n",
       "      <th>0</th>\n",
       "      <td>Gender.FEMALE</td>\n",
       "      <td>0.53271</td>\n",
       "    </tr>\n",
       "    <tr>\n",
       "      <th>1</th>\n",
       "      <td>Gender.MALE</td>\n",
       "      <td>0.46729</td>\n",
       "    </tr>\n",
       "  </tbody>\n",
       "</table>\n",
       "</div>"
      ],
      "text/plain": [
       "          gender     prob\n",
       "0  Gender.FEMALE  0.53271\n",
       "1    Gender.MALE  0.46729"
      ]
     },
     "execution_count": 23,
     "metadata": {},
     "output_type": "execute_result"
    }
   ],
   "source": [
    "gender_df"
   ]
  },
  {
   "cell_type": "code",
   "execution_count": 42,
   "metadata": {},
   "outputs": [],
   "source": [
    "data_folder = os.path.join(os.getcwd(), 'data', 'processed')"
   ]
  },
  {
   "cell_type": "markdown",
   "metadata": {},
   "source": [
    "# Age and Gender\n",
    "\n",
    "Assumption: given a 5 year bucket assume each age within this bucket is equally likely"
   ]
  },
  {
   "cell_type": "code",
   "execution_count": 45,
   "metadata": {},
   "outputs": [
    {
     "data": {
      "text/html": [
       "<div>\n",
       "<style scoped>\n",
       "    .dataframe tbody tr th:only-of-type {\n",
       "        vertical-align: middle;\n",
       "    }\n",
       "\n",
       "    .dataframe tbody tr th {\n",
       "        vertical-align: top;\n",
       "    }\n",
       "\n",
       "    .dataframe thead th {\n",
       "        text-align: right;\n",
       "    }\n",
       "</style>\n",
       "<table border=\"1\" class=\"dataframe\">\n",
       "  <thead>\n",
       "    <tr style=\"text-align: right;\">\n",
       "      <th></th>\n",
       "      <th>Age</th>\n",
       "      <th>Total</th>\n",
       "      <th>Males</th>\n",
       "      <th>Females</th>\n",
       "    </tr>\n",
       "  </thead>\n",
       "  <tbody>\n",
       "    <tr>\n",
       "      <th>0</th>\n",
       "      <td>0</td>\n",
       "      <td>7215</td>\n",
       "      <td>3698</td>\n",
       "      <td>3517</td>\n",
       "    </tr>\n",
       "    <tr>\n",
       "      <th>1</th>\n",
       "      <td>1</td>\n",
       "      <td>7474</td>\n",
       "      <td>3821</td>\n",
       "      <td>3653</td>\n",
       "    </tr>\n",
       "    <tr>\n",
       "      <th>2</th>\n",
       "      <td>2</td>\n",
       "      <td>7319</td>\n",
       "      <td>3748</td>\n",
       "      <td>3571</td>\n",
       "    </tr>\n",
       "    <tr>\n",
       "      <th>3</th>\n",
       "      <td>3</td>\n",
       "      <td>6974</td>\n",
       "      <td>3596</td>\n",
       "      <td>3378</td>\n",
       "    </tr>\n",
       "    <tr>\n",
       "      <th>4</th>\n",
       "      <td>4</td>\n",
       "      <td>6663</td>\n",
       "      <td>3469</td>\n",
       "      <td>3194</td>\n",
       "    </tr>\n",
       "  </tbody>\n",
       "</table>\n",
       "</div>"
      ],
      "text/plain": [
       "   Age  Total  Males  Females\n",
       "0    0   7215   3698     3517\n",
       "1    1   7474   3821     3653\n",
       "2    2   7319   3748     3571\n",
       "3    3   6974   3596     3378\n",
       "4    4   6663   3469     3194"
      ]
     },
     "execution_count": 45,
     "metadata": {},
     "output_type": "execute_result"
    }
   ],
   "source": [
    "age_gender_df = pd.read_excel(os.path.join(data_folder, 'age_gender.xlsx'), sheet_name='processed')\n",
    "age_gender_df.head()"
   ]
  },
  {
   "cell_type": "code",
   "execution_count": 46,
   "metadata": {},
   "outputs": [],
   "source": [
    "age_gender_df['age_probability'] = age_gender_df.Total / age_gender_df.Total.sum()"
   ]
  },
  {
   "cell_type": "code",
   "execution_count": 47,
   "metadata": {},
   "outputs": [],
   "source": [
    "age_gender_df['female_probability'] = age_gender_df.Females / (age_gender_df.Females + age_gender_df.Males)"
   ]
  },
  {
   "cell_type": "code",
   "execution_count": 48,
   "metadata": {},
   "outputs": [
    {
     "data": {
      "text/html": [
       "<div>\n",
       "<style scoped>\n",
       "    .dataframe tbody tr th:only-of-type {\n",
       "        vertical-align: middle;\n",
       "    }\n",
       "\n",
       "    .dataframe tbody tr th {\n",
       "        vertical-align: top;\n",
       "    }\n",
       "\n",
       "    .dataframe thead th {\n",
       "        text-align: right;\n",
       "    }\n",
       "</style>\n",
       "<table border=\"1\" class=\"dataframe\">\n",
       "  <thead>\n",
       "    <tr style=\"text-align: right;\">\n",
       "      <th></th>\n",
       "      <th>Age</th>\n",
       "      <th>Total</th>\n",
       "      <th>Males</th>\n",
       "      <th>Females</th>\n",
       "      <th>age_probability</th>\n",
       "      <th>female_probability</th>\n",
       "    </tr>\n",
       "  </thead>\n",
       "  <tbody>\n",
       "    <tr>\n",
       "      <th>0</th>\n",
       "      <td>0</td>\n",
       "      <td>7215</td>\n",
       "      <td>3698</td>\n",
       "      <td>3517</td>\n",
       "      <td>0.011245</td>\n",
       "      <td>0.487457</td>\n",
       "    </tr>\n",
       "    <tr>\n",
       "      <th>1</th>\n",
       "      <td>1</td>\n",
       "      <td>7474</td>\n",
       "      <td>3821</td>\n",
       "      <td>3653</td>\n",
       "      <td>0.011649</td>\n",
       "      <td>0.488761</td>\n",
       "    </tr>\n",
       "    <tr>\n",
       "      <th>2</th>\n",
       "      <td>2</td>\n",
       "      <td>7319</td>\n",
       "      <td>3748</td>\n",
       "      <td>3571</td>\n",
       "      <td>0.011407</td>\n",
       "      <td>0.487908</td>\n",
       "    </tr>\n",
       "    <tr>\n",
       "      <th>3</th>\n",
       "      <td>3</td>\n",
       "      <td>6974</td>\n",
       "      <td>3596</td>\n",
       "      <td>3378</td>\n",
       "      <td>0.010869</td>\n",
       "      <td>0.484371</td>\n",
       "    </tr>\n",
       "    <tr>\n",
       "      <th>4</th>\n",
       "      <td>4</td>\n",
       "      <td>6663</td>\n",
       "      <td>3469</td>\n",
       "      <td>3194</td>\n",
       "      <td>0.010385</td>\n",
       "      <td>0.479364</td>\n",
       "    </tr>\n",
       "  </tbody>\n",
       "</table>\n",
       "</div>"
      ],
      "text/plain": [
       "   Age  Total  Males  Females  age_probability  female_probability\n",
       "0    0   7215   3698     3517         0.011245            0.487457\n",
       "1    1   7474   3821     3653         0.011649            0.488761\n",
       "2    2   7319   3748     3571         0.011407            0.487908\n",
       "3    3   6974   3596     3378         0.010869            0.484371\n",
       "4    4   6663   3469     3194         0.010385            0.479364"
      ]
     },
     "execution_count": 48,
     "metadata": {},
     "output_type": "execute_result"
    }
   ],
   "source": [
    "age_gender_df.head()"
   ]
  },
  {
   "cell_type": "code",
   "execution_count": 49,
   "metadata": {},
   "outputs": [],
   "source": [
    "def sample_age_gender(age_gender_df):\n",
    "    index = np.random.choice(age_gender_df.index.tolist(), p=age_gender_df.age_probability)\n",
    "    row = age_gender_df.iloc[index]\n",
    "    age = row.Age\n",
    "    genders = [entities.Gender.FEMALE, entities.Gender.MALE]\n",
    "    gender = genders[np.random.choice([0, 1], p=[row.female_probability, 1-row.female_probability])]\n",
    "    return age, gender"
   ]
  },
  {
   "cell_type": "code",
   "execution_count": 62,
   "metadata": {},
   "outputs": [],
   "source": [
    "infected = entities.Node(1)\n",
    "infected.age, infected.gender = sample_age_gender(age_gender_df)"
   ]
  },
  {
   "cell_type": "code",
   "execution_count": 63,
   "metadata": {},
   "outputs": [
    {
     "data": {
      "text/plain": [
       "{'idx': 1,\n",
       " 'age': 38.0,\n",
       " 'gender': 0,\n",
       " 'employment_status': -1,\n",
       " 'social_competence': -1,\n",
       " 'public_transport_usage': -1,\n",
       " 'public_transport_duration': -1,\n",
       " 'household_index': -1,\n",
       " 'profession': -1}"
      ]
     },
     "execution_count": 63,
     "metadata": {},
     "output_type": "execute_result"
    }
   ],
   "source": [
    "infected"
   ]
  },
  {
   "cell_type": "markdown",
   "metadata": {},
   "source": [
    "# Household structure"
   ]
  },
  {
   "attachments": {},
   "cell_type": "markdown",
   "metadata": {},
   "source": [
    "| Obszar                 | Ogółem  | Małżeństwa razem | Małżeństwa bez dzieci | Małżeństwa z dziećmi | Partnerzy razem | Partnerzy bez dzieci | Partnerzy z dziećmi | Matki z dziećmi | Ojcowie z dziećmi |\n",
    "|------------------------|---------|------------------|-----------------------|----------------------|-----------------|----------------------|---------------------|-----------------|-------------------|\n",
    "| Powiat miasto Wrocław  | 175640  | 126831           | 43884                 | 82947                | 6346            | 3697                 | 2649                | 37223           | 5240              |\n",
    "| Wrocław-Fabryczna      | 56093   | 42033            | 13771                 | 28262                | 1618            | 966                  | 652                 | 10908           | 1534              |\n",
    "| Wrocław-Krzyki         | 45769   | 33202            | 11955                 | 21247                | 1656            | 990                  | 666                 | 9580            | 1331              |\n",
    "| Wrocław-Psie Pole      | 25126   | 18950            | 6077                  | 12873                | 815             | 436                  | 379                 | 4660            | 701               |\n",
    "| Wrocław-Stare Miasto   | 16184   | 10866            | 4810                  | 6056                 | 709             | 464                  | 245                 | 4055            | 554               |"
   ]
  },
  {
   "cell_type": "markdown",
   "metadata": {},
   "source": [
    "źródło: https://wroclaw.stat.gov.pl/cps/rde/xbcr/wroc/ASSETS_gospodarstwa_tablice.xls"
   ]
  },
  {
   "cell_type": "code",
   "execution_count": 4,
   "metadata": {},
   "outputs": [],
   "source": [
    "nb_of_people = [1,2,3,4,5]\n",
    "nb_of_households = [92713,81495,51620,31719,15434]\n",
    "households = pd.DataFrame(data={'nb_of_people_in_household': nb_of_people, 'nb_of_households': nb_of_households})"
   ]
  },
  {
   "cell_type": "code",
   "execution_count": 5,
   "metadata": {},
   "outputs": [],
   "source": [
    "households['nb_of_people'] = households.nb_of_people_in_household * households.nb_of_households"
   ]
  },
  {
   "cell_type": "code",
   "execution_count": 6,
   "metadata": {},
   "outputs": [],
   "source": [
    "households['probability'] = households.nb_of_people / households.nb_of_people.sum()"
   ]
  },
  {
   "cell_type": "code",
   "execution_count": 7,
   "metadata": {},
   "outputs": [
    {
     "data": {
      "text/html": [
       "<div>\n",
       "<style scoped>\n",
       "    .dataframe tbody tr th:only-of-type {\n",
       "        vertical-align: middle;\n",
       "    }\n",
       "\n",
       "    .dataframe tbody tr th {\n",
       "        vertical-align: top;\n",
       "    }\n",
       "\n",
       "    .dataframe thead th {\n",
       "        text-align: right;\n",
       "    }\n",
       "</style>\n",
       "<table border=\"1\" class=\"dataframe\">\n",
       "  <thead>\n",
       "    <tr style=\"text-align: right;\">\n",
       "      <th></th>\n",
       "      <th>nb_of_people_in_household</th>\n",
       "      <th>nb_of_households</th>\n",
       "      <th>nb_of_people</th>\n",
       "      <th>probability</th>\n",
       "    </tr>\n",
       "  </thead>\n",
       "  <tbody>\n",
       "    <tr>\n",
       "      <th>0</th>\n",
       "      <td>1</td>\n",
       "      <td>92713</td>\n",
       "      <td>92713</td>\n",
       "      <td>0.150849</td>\n",
       "    </tr>\n",
       "    <tr>\n",
       "      <th>1</th>\n",
       "      <td>2</td>\n",
       "      <td>81495</td>\n",
       "      <td>162990</td>\n",
       "      <td>0.265193</td>\n",
       "    </tr>\n",
       "    <tr>\n",
       "      <th>2</th>\n",
       "      <td>3</td>\n",
       "      <td>51620</td>\n",
       "      <td>154860</td>\n",
       "      <td>0.251965</td>\n",
       "    </tr>\n",
       "    <tr>\n",
       "      <th>3</th>\n",
       "      <td>4</td>\n",
       "      <td>31719</td>\n",
       "      <td>126876</td>\n",
       "      <td>0.206434</td>\n",
       "    </tr>\n",
       "    <tr>\n",
       "      <th>4</th>\n",
       "      <td>5</td>\n",
       "      <td>15434</td>\n",
       "      <td>77170</td>\n",
       "      <td>0.125560</td>\n",
       "    </tr>\n",
       "  </tbody>\n",
       "</table>\n",
       "</div>"
      ],
      "text/plain": [
       "   nb_of_people_in_household  nb_of_households  nb_of_people  probability\n",
       "0                          1             92713         92713     0.150849\n",
       "1                          2             81495        162990     0.265193\n",
       "2                          3             51620        154860     0.251965\n",
       "3                          4             31719        126876     0.206434\n",
       "4                          5             15434         77170     0.125560"
      ]
     },
     "execution_count": 7,
     "metadata": {},
     "output_type": "execute_result"
    }
   ],
   "source": [
    "households"
   ]
  },
  {
   "cell_type": "code",
   "execution_count": 8,
   "metadata": {},
   "outputs": [],
   "source": [
    "def sample_household_headcount(households):\n",
    "    return np.random.choice(households.nb_of_people_in_household, p=households.probability)"
   ]
  },
  {
   "cell_type": "code",
   "execution_count": 9,
   "metadata": {},
   "outputs": [],
   "source": [
    "where_do_they_live = sample_household_headcount(households)"
   ]
  },
  {
   "cell_type": "code",
   "execution_count": 10,
   "metadata": {},
   "outputs": [
    {
     "data": {
      "text/plain": [
       "3"
      ]
     },
     "execution_count": 10,
     "metadata": {},
     "output_type": "execute_result"
    }
   ],
   "source": [
    "where_do_they_live"
   ]
  },
  {
   "cell_type": "code",
   "execution_count": 11,
   "metadata": {},
   "outputs": [
    {
     "data": {
      "text/plain": [
       "<networkx.classes.graph.Graph at 0x225b7d37c08>"
      ]
     },
     "execution_count": 11,
     "metadata": {},
     "output_type": "execute_result"
    }
   ],
   "source": [
    "G = nx.Graph()\n",
    "infected = entities.Node(1)\n",
    "entities.add_node(G, infected)"
   ]
  },
  {
   "cell_type": "code",
   "execution_count": 12,
   "metadata": {},
   "outputs": [
    {
     "data": {
      "image/png": "[encoded data removed]",
      "text/plain": [
       "<Figure size 432x288 with 1 Axes>"
      ]
     },
     "metadata": {},
     "output_type": "display_data"
    }
   ],
   "source": [
    "nx.draw_networkx(G)"
   ]
  },
  {
   "cell_type": "code",
   "execution_count": 15,
   "metadata": {},
   "outputs": [],
   "source": [
    "for i in range(1, where_do_they_live):\n",
    "    cohabitant = entities.Node(infected.idx + i)\n",
    "    entities.add_node(G, cohabitant)\n",
    "    G.add_edge(infected.idx, cohabitant.idx)"
   ]
  },
  {
   "cell_type": "code",
   "execution_count": 17,
   "metadata": {},
   "outputs": [
    {
     "data": {
      "image/png": "[encoded data removed]",
      "text/plain": [
       "<Figure size 432x288 with 1 Axes>"
      ]
     },
     "metadata": {},
     "output_type": "display_data"
    }
   ],
   "source": [
    "nx.draw_networkx(G)"
   ]
  },
  {
   "cell_type": "markdown",
   "metadata": {},
   "source": [
    "# Who these cohabitants might be?\n",
    "\n",
    "| Infected, Headcount       | A1 | A2 | C2 | A3   | C3   | A4      | C4      | A5         | C5         |\n",
    "|---------------------------|----|----|----|------|------|---------|---------|------------|------------|\n",
    "| Cohabitants               | -  | C  | A  | A, A | A, A | A, A, A | A, A, A | A, A, A, A | A, A, A, A |\n",
    "| -                         | -  | A  | -  | A, C | A, C | A, A, C | A, A, C | A, A, A, C | A, A, A, C |\n",
    "| -                         | -  | -  | -  | C, C | -    | A, C, C | A, C, C | A, A, C, C | A, A, C, C |\n",
    "| -                         | -  | -  | -  | -    | -    | C, C, C | -       | A, C, C, C | A, C, C, C |\n",
    "| -                         | -  | -  | -  | -    | -    | -       | -       | C, C, C, C | -          |"
   ]
  },
  {
   "cell_type": "code",
   "execution_count": null,
   "metadata": {},
   "outputs": [],
   "source": []
  }
 ],
 "metadata": {
  "kernelspec": {
   "display_name": "Python [conda env:modelling-ncov2019]",
   "language": "python",
   "name": "conda-env-modelling-ncov2019-py"
  },
  "language_info": {
   "codemirror_mode": {
    "name": "ipython",
    "version": 3
   },
   "file_extension": ".py",
   "mimetype": "text/x-python",
   "name": "python",
   "nbconvert_exporter": "python",
   "pygments_lexer": "ipython3",
   "version": "3.7.6"
  }
 },
 "nbformat": 4,
 "nbformat_minor": 2
}
